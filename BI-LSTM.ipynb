{
 "cells": [
  {
   "cell_type": "markdown",
   "metadata": {},
   "source": [
    "#### Source: \n",
    "https://analyticsindiamag.com/complete-guide-to-bidirectional-lstm-with-python-codes/"
   ]
  },
  {
   "cell_type": "code",
   "execution_count": 1,
   "metadata": {},
   "outputs": [
    {
     "name": "stderr",
     "output_type": "stream",
     "text": [
      "Using TensorFlow backend.\n"
     ]
    }
   ],
   "source": [
    "import numpy as np\n",
    "from keras.preprocessing import sequence\n",
    "from tensorflow.keras import Sequential\n",
    "from tensorflow.keras.layers import Dense, Dropout, Embedding, LSTM, Bidirectional\n",
    "from keras.datasets import imdb "
   ]
  },
  {
   "cell_type": "markdown",
   "metadata": {},
   "source": [
    "use the IMDB data set for text classification using keras and bi-LSTM network "
   ]
  },
  {
   "cell_type": "code",
   "execution_count": 2,
   "metadata": {},
   "outputs": [],
   "source": [
    "n_unique_words = 10000 # cut texts after this number of words\n",
    "maxlen = 200\n",
    "batch_size = 128 "
   ]
  },
  {
   "cell_type": "code",
   "execution_count": 3,
   "metadata": {},
   "outputs": [
    {
     "name": "stderr",
     "output_type": "stream",
     "text": [
      "C:\\Users\\18796\\anaconda3\\Lib\\site-packages\\keras\\datasets\\imdb.py:101: VisibleDeprecationWarning: Creating an ndarray from ragged nested sequences (which is a list-or-tuple of lists-or-tuples-or ndarrays with different lengths or shapes) is deprecated. If you meant to do this, you must specify 'dtype=object' when creating the ndarray\n",
      "  x_train, y_train = np.array(xs[:idx]), np.array(labels[:idx])\n",
      "C:\\Users\\18796\\anaconda3\\Lib\\site-packages\\keras\\datasets\\imdb.py:102: VisibleDeprecationWarning: Creating an ndarray from ragged nested sequences (which is a list-or-tuple of lists-or-tuples-or ndarrays with different lengths or shapes) is deprecated. If you meant to do this, you must specify 'dtype=object' when creating the ndarray\n",
      "  x_test, y_test = np.array(xs[idx:]), np.array(labels[idx:])\n"
     ]
    }
   ],
   "source": [
    "(x_train, y_train),(x_test, y_test) = imdb.load_data(num_words=n_unique_words)"
   ]
  },
  {
   "cell_type": "code",
   "execution_count": 4,
   "metadata": {},
   "outputs": [],
   "source": [
    "x_train = sequence.pad_sequences(x_train, maxlen=maxlen)\n",
    "x_test = sequence.pad_sequences(x_test, maxlen=maxlen)\n",
    "y_train = np.array(y_train)\n",
    "y_test = np.array(y_test) "
   ]
  },
  {
   "cell_type": "code",
   "execution_count": 5,
   "metadata": {},
   "outputs": [
    {
     "name": "stdout",
     "output_type": "stream",
     "text": [
      "(25000, 200) (25000, 200) (25000,) (25000,)\n"
     ]
    }
   ],
   "source": [
    "print(x_train.shape,x_test.shape,y_train.shape,y_test.shape)"
   ]
  },
  {
   "cell_type": "code",
   "execution_count": 6,
   "metadata": {},
   "outputs": [],
   "source": [
    "model = Sequential()\n",
    "model.add(Embedding(n_unique_words, 128, input_length=maxlen))\n",
    "model.add(Bidirectional(LSTM(64)))\n",
    "model.add(Dropout(0.5))\n",
    "model.add(Dense(1, activation='sigmoid'))\n",
    "model.compile(loss='binary_crossentropy', optimizer='adam', metrics=['accuracy']) "
   ]
  },
  {
   "cell_type": "code",
   "execution_count": 7,
   "metadata": {},
   "outputs": [
    {
     "name": "stdout",
     "output_type": "stream",
     "text": [
      "Epoch 1/12\n",
      "196/196 [==============================] - 241s 1s/step - loss: 0.4557 - accuracy: 0.7693 - val_loss: 0.0000e+00 - val_accuracy: 0.0000e+00\n",
      "Epoch 2/12\n",
      "196/196 [==============================] - 231s 1s/step - loss: 0.2459 - accuracy: 0.9078 - val_loss: 0.0000e+00 - val_accuracy: 0.0000e+00\n",
      "Epoch 3/12\n",
      "196/196 [==============================] - 289s 1s/step - loss: 0.1767 - accuracy: 0.9368 - val_loss: 0.0000e+00 - val_accuracy: 0.0000e+00\n",
      "Epoch 4/12\n",
      "196/196 [==============================] - 246s 1s/step - loss: 0.1388 - accuracy: 0.9512 - val_loss: 0.0000e+00 - val_accuracy: 0.0000e+00\n",
      "Epoch 5/12\n",
      "196/196 [==============================] - 254s 1s/step - loss: 0.1134 - accuracy: 0.9614 - val_loss: 0.0000e+00 - val_accuracy: 0.0000e+00\n",
      "Epoch 6/12\n",
      "196/196 [==============================] - 259s 1s/step - loss: 0.0993 - accuracy: 0.9675 - val_loss: 0.0000e+00 - val_accuracy: 0.0000e+00\n",
      "Epoch 7/12\n",
      "196/196 [==============================] - 258s 1s/step - loss: 0.0742 - accuracy: 0.9742 - val_loss: 0.0000e+00 - val_accuracy: 0.0000e+00\n",
      "Epoch 8/12\n",
      "196/196 [==============================] - 302s 2s/step - loss: 0.0512 - accuracy: 0.9827 - val_loss: 0.0000e+00 - val_accuracy: 0.0000e+00\n",
      "Epoch 9/12\n",
      "196/196 [==============================] - 308s 2s/step - loss: 0.0493 - accuracy: 0.9837 - val_loss: 0.0000e+00 - val_accuracy: 0.0000e+00\n",
      "Epoch 10/12\n",
      "196/196 [==============================] - 209s 1s/step - loss: 0.0393 - accuracy: 0.9876 - val_loss: 0.0000e+00 - val_accuracy: 0.0000e+00\n",
      "Epoch 11/12\n",
      "196/196 [==============================] - 207s 1s/step - loss: 0.0295 - accuracy: 0.9912 - val_loss: 0.0000e+00 - val_accuracy: 0.0000e+00\n",
      "Epoch 12/12\n",
      "196/196 [==============================] - 204s 1s/step - loss: 0.0340 - accuracy: 0.9900 - val_loss: 0.0000e+00 - val_accuracy: 0.0000e+00\n",
      "[0.4556616544723511, 0.24589964747428894, 0.17666900157928467, 0.13875721395015717, 0.11341338604688644, 0.09926196932792664, 0.07424668222665787, 0.05121476948261261, 0.04926983267068863, 0.03928124159574509, 0.029529035091400146, 0.034030575305223465]\n",
      "[0.769320011138916, 0.9078400135040283, 0.9367600083351135, 0.951200008392334, 0.9614400267601013, 0.9674800038337708, 0.9742400050163269, 0.9827200174331665, 0.983680009841919, 0.9876000285148621, 0.991159975528717, 0.9900000095367432]\n"
     ]
    }
   ],
   "source": [
    "history=model.fit(x_train, y_train,\n",
    "           batch_size=batch_size,\n",
    "           epochs=12,\n",
    "           validation_data=[x_test, y_test])\n",
    "print(history.history['loss'])\n",
    "print(history.history['accuracy']) "
   ]
  },
  {
   "cell_type": "code",
   "execution_count": 8,
   "metadata": {},
   "outputs": [
    {
     "data": {
      "image/png": "[encoded data removed]",
      "text/plain": [
       "<Figure size 432x288 with 1 Axes>"
      ]
     },
     "metadata": {
      "needs_background": "light"
     },
     "output_type": "display_data"
    }
   ],
   "source": [
    "from matplotlib import pyplot\n",
    "pyplot.plot(history.history['loss'])\n",
    "pyplot.plot(history.history['accuracy'])\n",
    "pyplot.title('model loss vs accuracy')\n",
    "pyplot.xlabel('epoch')\n",
    "pyplot.legend(['loss', 'accuracy'], loc='upper right')\n",
    "pyplot.show() "
   ]
  },
  {
   "cell_type": "code",
   "execution_count": null,
   "metadata": {},
   "outputs": [],
   "source": []
  }
 ],
 "metadata": {
  "kernelspec": {
   "display_name": "Python 3",
   "language": "python",
   "name": "python3"
  },
  "language_info": {
   "codemirror_mode": {
    "name": "ipython",
    "version": 3
   },
   "file_extension": ".py",
   "mimetype": "text/x-python",
   "name": "python",
   "nbconvert_exporter": "python",
   "pygments_lexer": "ipython3",
   "version": "3.8.3"
  }
 },
 "nbformat": 4,
 "nbformat_minor": 4
}
